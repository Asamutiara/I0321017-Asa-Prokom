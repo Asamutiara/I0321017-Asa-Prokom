{
 "cells": [
  {
   "cell_type": "markdown",
   "metadata": {},
   "source": [
    "# Exercise 09  \n",
    "### OPERASI MATRIKS  \n",
    "Silahkan lengkapi kode yang rumpang sesuai perintah yang diberikan.\n"
   ]
  },
  {
   "cell_type": "markdown",
   "metadata": {},
   "source": [
    "![](./image/1.png)"
   ]
  },
  {
   "cell_type": "code",
   "execution_count": 135,
   "metadata": {},
   "outputs": [
    {
     "name": "stdout",
     "output_type": "stream",
     "text": [
      "[[21, 21], [21, 21]]\n",
      "[[13, 13], [13, 13]]\n"
     ]
    }
   ],
   "source": [
    "A = [[21, 21],\n",
    "     [21, 21]]\n",
    "\n",
    "B = [[13, 13],\n",
    "     [13, 13]]\n",
    "print(A)\n",
    "print(B)\n"
   ]
  },
  {
   "cell_type": "markdown",
   "metadata": {},
   "source": [
    "Buatlah matriks menggunakan metode perulangan for dengan ketentuan sebagai berikut:\n",
    "* Matriks A berisi angka sebesar 4 setelah nim kalian. (ex: nim = 12, nilai matriks [16, 16],[16,16])\n",
    "* Matriks B berisi angka sebesar 4 sebelum nim kalian. (ex: nim = 12, nilai matriks [8, 8],[8,8])\n"
   ]
  },
  {
   "cell_type": "code",
   "execution_count": 136,
   "metadata": {},
   "outputs": [
    {
     "name": "stdout",
     "output_type": "stream",
     "text": [
      "[[21, 21], [21, 21]]\n",
      "[[13, 13], [13, 13]]\n"
     ]
    }
   ],
   "source": [
    "def create(matriks, nim):\n",
    "    for i in range(2):\n",
    "        for k in range(2):\n",
    "            matriks[i][k] = nim\n",
    "create(A, 21)\n",
    "create(B, 13)\n",
    "\n",
    "print(A)\n",
    "print(B)\n"
   ]
  },
  {
   "cell_type": "markdown",
   "metadata": {},
   "source": [
    "## KERJAKAN SOAL BERIKUT\n",
    "1. Buatlah program penjumlahan matriks A dan B.\n",
    "2. Buatlah program pengurangan matriks A dan B.\n",
    "3. Buatlah program perkalian matriks A dan B."
   ]
  },
  {
   "cell_type": "code",
   "execution_count": 137,
   "metadata": {},
   "outputs": [
    {
     "name": "stdout",
     "output_type": "stream",
     "text": [
      "[34, 34]\n",
      "[34, 34]\n"
     ]
    }
   ],
   "source": [
    "#SOAL-1\n",
    "#YOUR CODE HERE\n",
    "X = [[0,0],\n",
    "     [0,0]]\n",
    "\n",
    "for i in range(len(A)):\n",
    "    for j in range(len(A[0])):\n",
    "        X[i][j] = A[i][j] + B[i][j]\n",
    "for hasil in X:\n",
    "    print(hasil)"
   ]
  },
  {
   "cell_type": "code",
   "execution_count": 138,
   "metadata": {},
   "outputs": [
    {
     "name": "stdout",
     "output_type": "stream",
     "text": [
      "[8, 8]\n",
      "[8, 8]\n"
     ]
    }
   ],
   "source": [
    "#SOAL-2\n",
    "#YOUR CODE HERE\n",
    "X = [[0,0],\n",
    "     [0,0]]\n",
    "for i in range(len(A)):\n",
    "    for j in range(len(A[0])):\n",
    "        X[i][j] = A[i][j] - B[i][j]\n",
    "for hasil in X:\n",
    "    print(hasil)"
   ]
  },
  {
   "cell_type": "code",
   "execution_count": 139,
   "metadata": {},
   "outputs": [
    {
     "name": "stdout",
     "output_type": "stream",
     "text": [
      "[546, 546]\n",
      "[546, 546]\n"
     ]
    }
   ],
   "source": [
    "#SOAL-3\n",
    "#YOUR CODE HERE\n",
    "X = [[0,0],\n",
    "     [0,0]]\n",
    "\n",
    "for i in range(len(A)):\n",
    "    for j in range(len(B[0])):\n",
    "        for k in range(len(B)):\n",
    "            X[i][j] += A[i][k] * B[k][j]\n",
    "\n",
    "for hasil in X:\n",
    "    print(hasil)"
   ]
  },
  {
   "cell_type": "markdown",
   "metadata": {},
   "source": [
    "### Cara Pengumpulan\n",
    "\n",
    "1. Buka *New Terminal*\n",
    "2. Pastikan *path* Terminal adalah folder repositori kalian (NIM-Nama-Prokom).\n",
    "3. Tambahkan file yang akan ditrack dengan `git add <nama file>`. Nama file bisa diubah . (titik)  `git add .`yang artinya semua file dalam folder akan ditrack.\n",
    "4. Lakukan commit perubahan dengan `git commit -m <deskripsi>`.\n",
    "5. Lakukan push dengan `git push -u origin <nama branch>`. Nama branch dapat diketahui dengan `git branch`.\n",
    "6. Pastikan Exercise-02 telah terupload dan dapat diakses di repositori dengan mengaksesnya di browser."
   ]
  }
 ],
 "metadata": {
  "interpreter": {
   "hash": "58099d383451b51f017ac943638f7bc7e65cf5b041144c65c59708ca0da258d7"
  },
  "kernelspec": {
   "display_name": "Python 3.10.3 64-bit",
   "language": "python",
   "name": "python3"
  },
  "language_info": {
   "codemirror_mode": {
    "name": "ipython",
    "version": 3
   },
   "file_extension": ".py",
   "mimetype": "text/x-python",
   "name": "python",
   "nbconvert_exporter": "python",
   "pygments_lexer": "ipython3",
   "version": "3.10.3"
  },
  "orig_nbformat": 4
 },
 "nbformat": 4,
 "nbformat_minor": 2
}
